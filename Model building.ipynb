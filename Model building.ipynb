{
 "cells": [
  {
   "cell_type": "code",
   "execution_count": 1,
   "id": "3a4d70a2",
   "metadata": {},
   "outputs": [],
   "source": [
    "import pandas as pd\n",
    "import seaborn as sns\n",
    "import matplotlib.pyplot as plt\n",
    "import re\n",
    "import numpy as np"
   ]
  },
  {
   "cell_type": "code",
   "execution_count": 2,
   "id": "bb7f9d98",
   "metadata": {},
   "outputs": [],
   "source": [
    "data=pd.read_csv('final_dataset.csv')\n",
    "data.drop(['Unnamed: 0','location_details','property_name'],axis=1,inplace=True)"
   ]
  },
  {
   "cell_type": "code",
   "execution_count": 3,
   "id": "6e64358a",
   "metadata": {},
   "outputs": [
    {
     "data": {
      "text/plain": [
       "76"
      ]
     },
     "execution_count": 3,
     "metadata": {},
     "output_type": "execute_result"
    }
   ],
   "source": [
    "data.duplicated().sum()"
   ]
  },
  {
   "cell_type": "code",
   "execution_count": 4,
   "id": "df0b7796",
   "metadata": {},
   "outputs": [],
   "source": [
    "#to extract the year from the completion status feature\n",
    "def search(x):\n",
    "    ob1=re.compile(r'\\d{4}')\n",
    "    ob2=ob1.findall(x)\n",
    "    if(len(ob2)!=0):\n",
    "        temp=ob2[0]\n",
    "    else:\n",
    "        temp=2023\n",
    "    return temp"
   ]
  },
  {
   "cell_type": "code",
   "execution_count": 5,
   "id": "e84fe919",
   "metadata": {},
   "outputs": [],
   "source": [
    "#to extract the year from the completion status feature\n",
    "def rooms(x):\n",
    "    ob1=re.compile(r'\\d')\n",
    "    ob2=ob1.findall(x)\n",
    "    if(len(ob2)!=0):\n",
    "        temp=ob2[0]\n",
    "    else:\n",
    "        temp=0\n",
    "    return temp"
   ]
  },
  {
   "cell_type": "code",
   "execution_count": 6,
   "id": "8223fdd8",
   "metadata": {},
   "outputs": [],
   "source": [
    "def extract_age(x):\n",
    "    temp=2023-int(x)\n",
    "    return temp"
   ]
  },
  {
   "cell_type": "code",
   "execution_count": 7,
   "id": "4b0ed9e5",
   "metadata": {},
   "outputs": [],
   "source": [
    "data['completion_status']=data['completion_status'].map(search)\n",
    "data['age_of_building']=data['completion_status'].map(extract_age)"
   ]
  },
  {
   "cell_type": "code",
   "execution_count": 8,
   "id": "11d93818",
   "metadata": {},
   "outputs": [
    {
     "name": "stderr",
     "output_type": "stream",
     "text": [
      "D:\\anaconda\\lib\\site-packages\\seaborn\\_decorators.py:36: FutureWarning: Pass the following variable as a keyword arg: x. From version 0.12, the only valid positional argument will be `data`, and passing other arguments without an explicit keyword will result in an error or misinterpretation.\n",
      "  warnings.warn(\n"
     ]
    },
    {
     "data": {
      "text/plain": [
       "(array([ 0,  1,  2,  3,  4,  5,  6,  7,  8,  9, 10, 11, 12, 13, 14, 15]),\n",
       " [Text(0, 0, '2020'),\n",
       "  Text(1, 0, '2019'),\n",
       "  Text(2, 0, '2023'),\n",
       "  Text(3, 0, '2015'),\n",
       "  Text(4, 0, '2022'),\n",
       "  Text(5, 0, '2024'),\n",
       "  Text(6, 0, '2017'),\n",
       "  Text(7, 0, '2023'),\n",
       "  Text(8, 0, '2026'),\n",
       "  Text(9, 0, '2027'),\n",
       "  Text(10, 0, '2021'),\n",
       "  Text(11, 0, '2025'),\n",
       "  Text(12, 0, '2018'),\n",
       "  Text(13, 0, '2016'),\n",
       "  Text(14, 0, '2014'),\n",
       "  Text(15, 0, '2028')])"
      ]
     },
     "execution_count": 8,
     "metadata": {},
     "output_type": "execute_result"
    },
    {
     "data": {
      "image/png": "[encoded data removed]",
      "text/plain": [
       "<Figure size 720x504 with 1 Axes>"
      ]
     },
     "metadata": {
      "needs_background": "light"
     },
     "output_type": "display_data"
    }
   ],
   "source": [
    "plt.figure(figsize=(10,7))\n",
    "sns.countplot(data['completion_status'])\n",
    "plt.xticks(rotation=45)"
   ]
  },
  {
   "cell_type": "code",
   "execution_count": 9,
   "id": "f274a1fd",
   "metadata": {},
   "outputs": [
    {
     "name": "stderr",
     "output_type": "stream",
     "text": [
      "D:\\anaconda\\lib\\site-packages\\seaborn\\_decorators.py:36: FutureWarning: Pass the following variable as a keyword arg: x. From version 0.12, the only valid positional argument will be `data`, and passing other arguments without an explicit keyword will result in an error or misinterpretation.\n",
      "  warnings.warn(\n"
     ]
    },
    {
     "data": {
      "text/plain": [
       "(array([ 0,  1,  2,  3,  4,  5,  6,  7,  8,  9, 10, 11, 12, 13, 14]),\n",
       " [Text(0, 0, '-5'),\n",
       "  Text(1, 0, '-4'),\n",
       "  Text(2, 0, '-3'),\n",
       "  Text(3, 0, '-2'),\n",
       "  Text(4, 0, '-1'),\n",
       "  Text(5, 0, '0'),\n",
       "  Text(6, 0, '1'),\n",
       "  Text(7, 0, '2'),\n",
       "  Text(8, 0, '3'),\n",
       "  Text(9, 0, '4'),\n",
       "  Text(10, 0, '5'),\n",
       "  Text(11, 0, '6'),\n",
       "  Text(12, 0, '7'),\n",
       "  Text(13, 0, '8'),\n",
       "  Text(14, 0, '9')])"
      ]
     },
     "execution_count": 9,
     "metadata": {},
     "output_type": "execute_result"
    },
    {
     "data": {
      "image/png": "[encoded data removed]",
      "text/plain": [
       "<Figure size 720x504 with 1 Axes>"
      ]
     },
     "metadata": {
      "needs_background": "light"
     },
     "output_type": "display_data"
    }
   ],
   "source": [
    "plt.figure(figsize=(10,7))\n",
    "sns.countplot(data['age_of_building'])\n",
    "plt.xticks(rotation=45)\n"
   ]
  },
  {
   "cell_type": "code",
   "execution_count": 10,
   "id": "baf99817",
   "metadata": {},
   "outputs": [],
   "source": [
    "data=data.drop_duplicates(None).reset_index()\n",
    "data['no_rooms']=data['size'].map(rooms)\n",
    "data.drop(['completion_status','index','size'],axis=1,inplace=True)"
   ]
  },
  {
   "cell_type": "markdown",
   "id": "97a0ee4b",
   "metadata": {},
   "source": [
    "# Data preprocessing"
   ]
  },
  {
   "cell_type": "code",
   "execution_count": 11,
   "id": "20b7b629",
   "metadata": {},
   "outputs": [],
   "source": [
    "data['price_per_sq']=data['price_per_sq_ft']\n",
    "data.drop('price_per_sq_ft',axis=1,inplace=True)"
   ]
  },
  {
   "cell_type": "code",
   "execution_count": 12,
   "id": "b3f68a34",
   "metadata": {},
   "outputs": [
    {
     "data": {
      "text/html": [
       "<div>\n",
       "<style scoped>\n",
       "    .dataframe tbody tr th:only-of-type {\n",
       "        vertical-align: middle;\n",
       "    }\n",
       "\n",
       "    .dataframe tbody tr th {\n",
       "        vertical-align: top;\n",
       "    }\n",
       "\n",
       "    .dataframe thead th {\n",
       "        text-align: right;\n",
       "    }\n",
       "</style>\n",
       "<table border=\"1\" class=\"dataframe\">\n",
       "  <thead>\n",
       "    <tr style=\"text-align: right;\">\n",
       "      <th></th>\n",
       "      <th>avg_area</th>\n",
       "      <th>avg_price</th>\n",
       "      <th>age_of_building</th>\n",
       "      <th>price_per_sq</th>\n",
       "    </tr>\n",
       "  </thead>\n",
       "  <tbody>\n",
       "    <tr>\n",
       "      <th>count</th>\n",
       "      <td>1.710000e+03</td>\n",
       "      <td>1710.000000</td>\n",
       "      <td>1710.000000</td>\n",
       "      <td>1710.000000</td>\n",
       "    </tr>\n",
       "    <tr>\n",
       "      <th>mean</th>\n",
       "      <td>5.059367e+03</td>\n",
       "      <td>180.730825</td>\n",
       "      <td>0.633333</td>\n",
       "      <td>0.088212</td>\n",
       "    </tr>\n",
       "    <tr>\n",
       "      <th>std</th>\n",
       "      <td>9.209207e+04</td>\n",
       "      <td>418.252252</td>\n",
       "      <td>1.761878</td>\n",
       "      <td>0.102903</td>\n",
       "    </tr>\n",
       "    <tr>\n",
       "      <th>min</th>\n",
       "      <td>8.194000e+01</td>\n",
       "      <td>6.990000</td>\n",
       "      <td>-5.000000</td>\n",
       "      <td>0.000010</td>\n",
       "    </tr>\n",
       "    <tr>\n",
       "      <th>25%</th>\n",
       "      <td>1.099000e+03</td>\n",
       "      <td>59.131250</td>\n",
       "      <td>0.000000</td>\n",
       "      <td>0.053445</td>\n",
       "    </tr>\n",
       "    <tr>\n",
       "      <th>50%</th>\n",
       "      <td>1.309500e+03</td>\n",
       "      <td>94.460000</td>\n",
       "      <td>1.000000</td>\n",
       "      <td>0.070764</td>\n",
       "    </tr>\n",
       "    <tr>\n",
       "      <th>75%</th>\n",
       "      <td>2.100000e+03</td>\n",
       "      <td>185.875000</td>\n",
       "      <td>1.000000</td>\n",
       "      <td>0.102213</td>\n",
       "    </tr>\n",
       "    <tr>\n",
       "      <th>max</th>\n",
       "      <td>3.750000e+06</td>\n",
       "      <td>13520.000000</td>\n",
       "      <td>9.000000</td>\n",
       "      <td>2.556749</td>\n",
       "    </tr>\n",
       "  </tbody>\n",
       "</table>\n",
       "</div>"
      ],
      "text/plain": [
       "           avg_area     avg_price  age_of_building  price_per_sq\n",
       "count  1.710000e+03   1710.000000      1710.000000   1710.000000\n",
       "mean   5.059367e+03    180.730825         0.633333      0.088212\n",
       "std    9.209207e+04    418.252252         1.761878      0.102903\n",
       "min    8.194000e+01      6.990000        -5.000000      0.000010\n",
       "25%    1.099000e+03     59.131250         0.000000      0.053445\n",
       "50%    1.309500e+03     94.460000         1.000000      0.070764\n",
       "75%    2.100000e+03    185.875000         1.000000      0.102213\n",
       "max    3.750000e+06  13520.000000         9.000000      2.556749"
      ]
     },
     "execution_count": 12,
     "metadata": {},
     "output_type": "execute_result"
    }
   ],
   "source": [
    "data.describe()"
   ]
  },
  {
   "cell_type": "code",
   "execution_count": 13,
   "id": "fa988611",
   "metadata": {
    "scrolled": true
   },
   "outputs": [
    {
     "name": "stdout",
     "output_type": "stream",
     "text": [
      "20.1188 551.3749999999999\n"
     ]
    }
   ],
   "source": [
    "#removing outliers from price_per_square_feet\n",
    "lower_limit=np.percentile(data['avg_price'],2)\n",
    "upper_limit=np.percentile(data['avg_price'],95)\n",
    "print(lower_limit,upper_limit)\n",
    "data.drop(data[(data['avg_price']<lower_limit) | (data['avg_price']>upper_limit)].index,axis=0,inplace=True)"
   ]
  },
  {
   "cell_type": "code",
   "execution_count": 14,
   "id": "1a76aff3",
   "metadata": {},
   "outputs": [],
   "source": [
    "df2=pd.read_csv('final_dataset.csv')\n",
    "df2.drop(['Unnamed: 0','location_details','property_name'],axis=1,inplace=True)"
   ]
  },
  {
   "cell_type": "code",
   "execution_count": 15,
   "id": "092d179e",
   "metadata": {},
   "outputs": [
    {
     "name": "stderr",
     "output_type": "stream",
     "text": [
      "D:\\anaconda\\lib\\site-packages\\seaborn\\_decorators.py:36: FutureWarning: Pass the following variable as a keyword arg: x. From version 0.12, the only valid positional argument will be `data`, and passing other arguments without an explicit keyword will result in an error or misinterpretation.\n",
      "  warnings.warn(\n"
     ]
    },
    {
     "data": {
      "text/plain": [
       "<AxesSubplot:xlabel='avg_price'>"
      ]
     },
     "execution_count": 15,
     "metadata": {},
     "output_type": "execute_result"
    },
    {
     "data": {
      "image/png": "[encoded data removed]",
      "text/plain": [
       "<Figure size 432x288 with 1 Axes>"
      ]
     },
     "metadata": {
      "needs_background": "light"
     },
     "output_type": "display_data"
    }
   ],
   "source": [
    "sns.boxplot(df2['avg_price'])"
   ]
  },
  {
   "cell_type": "code",
   "execution_count": 16,
   "id": "cb87b5fc",
   "metadata": {},
   "outputs": [
    {
     "name": "stderr",
     "output_type": "stream",
     "text": [
      "D:\\anaconda\\lib\\site-packages\\seaborn\\_decorators.py:36: FutureWarning: Pass the following variable as a keyword arg: x. From version 0.12, the only valid positional argument will be `data`, and passing other arguments without an explicit keyword will result in an error or misinterpretation.\n",
      "  warnings.warn(\n"
     ]
    },
    {
     "data": {
      "text/plain": [
       "<AxesSubplot:xlabel='avg_price'>"
      ]
     },
     "execution_count": 16,
     "metadata": {},
     "output_type": "execute_result"
    },
    {
     "data": {
      "image/png": "[encoded data removed]",
      "text/plain": [
       "<Figure size 432x288 with 1 Axes>"
      ]
     },
     "metadata": {
      "needs_background": "light"
     },
     "output_type": "display_data"
    }
   ],
   "source": [
    "sns.boxplot(data['avg_price'])"
   ]
  },
  {
   "cell_type": "code",
   "execution_count": 17,
   "id": "eb57d8c1",
   "metadata": {
    "scrolled": true
   },
   "outputs": [
    {
     "name": "stderr",
     "output_type": "stream",
     "text": [
      "D:\\anaconda\\lib\\site-packages\\seaborn\\_decorators.py:36: FutureWarning: Pass the following variable as a keyword arg: x. From version 0.12, the only valid positional argument will be `data`, and passing other arguments without an explicit keyword will result in an error or misinterpretation.\n",
      "  warnings.warn(\n"
     ]
    },
    {
     "data": {
      "text/plain": [
       "<AxesSubplot:xlabel='avg_area'>"
      ]
     },
     "execution_count": 17,
     "metadata": {},
     "output_type": "execute_result"
    },
    {
     "data": {
      "image/png": "[encoded data removed]",
      "text/plain": [
       "<Figure size 432x288 with 1 Axes>"
      ]
     },
     "metadata": {
      "needs_background": "light"
     },
     "output_type": "display_data"
    }
   ],
   "source": [
    "sns.boxplot(data['avg_area'])"
   ]
  },
  {
   "cell_type": "code",
   "execution_count": 18,
   "id": "e2a4c77b",
   "metadata": {},
   "outputs": [],
   "source": [
    "#removing the outliers from the avg area from the box plot we can observe that there are outliers\n",
    "lower_limit=np.percentile(data['avg_area'],96)\n",
    "data.drop(data[(data['avg_area']>lower_limit)].index,axis=0,inplace=True)"
   ]
  },
  {
   "cell_type": "code",
   "execution_count": 19,
   "id": "67b24690",
   "metadata": {},
   "outputs": [
    {
     "name": "stderr",
     "output_type": "stream",
     "text": [
      "D:\\anaconda\\lib\\site-packages\\seaborn\\_decorators.py:36: FutureWarning: Pass the following variable as a keyword arg: x. From version 0.12, the only valid positional argument will be `data`, and passing other arguments without an explicit keyword will result in an error or misinterpretation.\n",
      "  warnings.warn(\n"
     ]
    },
    {
     "data": {
      "text/plain": [
       "<AxesSubplot:xlabel='avg_area'>"
      ]
     },
     "execution_count": 19,
     "metadata": {},
     "output_type": "execute_result"
    },
    {
     "data": {
      "image/png": "[encoded data removed]",
      "text/plain": [
       "<Figure size 432x288 with 1 Axes>"
      ]
     },
     "metadata": {
      "needs_background": "light"
     },
     "output_type": "display_data"
    }
   ],
   "source": [
    "sns.boxplot(data['avg_area'])"
   ]
  },
  {
   "cell_type": "code",
   "execution_count": 20,
   "id": "92eb0a8a",
   "metadata": {},
   "outputs": [],
   "source": [
    "data.reset_index(drop=bool,inplace=True)"
   ]
  },
  {
   "cell_type": "markdown",
   "id": "7c7b0191",
   "metadata": {},
   "source": [
    "# Model Building "
   ]
  },
  {
   "cell_type": "code",
   "execution_count": 21,
   "id": "f41edfea",
   "metadata": {},
   "outputs": [],
   "source": [
    "from sklearn.metrics import r2_score\n",
    "from sklearn.model_selection import train_test_split\n",
    "from sklearn.linear_model import LinearRegression\n",
    "from sklearn.neighbors import KNeighborsRegressor\n",
    "from sklearn.tree import DecisionTreeRegressor\n",
    "from sklearn.ensemble import RandomForestRegressor"
   ]
  },
  {
   "cell_type": "code",
   "execution_count": 22,
   "id": "f7cfa340",
   "metadata": {
    "scrolled": false
   },
   "outputs": [],
   "source": [
    "df1=data[data['no_rooms']!=0]"
   ]
  },
  {
   "cell_type": "code",
   "execution_count": 23,
   "id": "0329095b",
   "metadata": {
    "scrolled": true
   },
   "outputs": [
    {
     "name": "stderr",
     "output_type": "stream",
     "text": [
      "C:\\Users\\asus\\AppData\\Local\\Temp\\ipykernel_14172\\3769564286.py:1: SettingWithCopyWarning: \n",
      "A value is trying to be set on a copy of a slice from a DataFrame.\n",
      "Try using .loc[row_indexer,col_indexer] = value instead\n",
      "\n",
      "See the caveats in the documentation: https://pandas.pydata.org/pandas-docs/stable/user_guide/indexing.html#returning-a-view-versus-a-copy\n",
      "  df1['no_rooms']=df1['no_rooms'].astype('int')\n"
     ]
    }
   ],
   "source": [
    "df1['no_rooms']=df1['no_rooms'].astype('int')"
   ]
  },
  {
   "cell_type": "code",
   "execution_count": 24,
   "id": "520e172b",
   "metadata": {},
   "outputs": [
    {
     "name": "stderr",
     "output_type": "stream",
     "text": [
      "C:\\Users\\asus\\AppData\\Local\\Temp\\ipykernel_14172\\518466072.py:1: SettingWithCopyWarning: \n",
      "A value is trying to be set on a copy of a slice from a DataFrame\n",
      "\n",
      "See the caveats in the documentation: https://pandas.pydata.org/pandas-docs/stable/user_guide/indexing.html#returning-a-view-versus-a-copy\n",
      "  df1.drop('price_per_sq',axis=1,inplace=True)\n"
     ]
    }
   ],
   "source": [
    "df1.drop('price_per_sq',axis=1,inplace=True)"
   ]
  },
  {
   "cell_type": "code",
   "execution_count": 25,
   "id": "6bb762b4",
   "metadata": {},
   "outputs": [],
   "source": [
    "model_name=[]\n",
    "accuray=[]"
   ]
  },
  {
   "cell_type": "code",
   "execution_count": 26,
   "id": "dbb678e0",
   "metadata": {},
   "outputs": [],
   "source": [
    "df1=pd.get_dummies(df1,drop_first=True)"
   ]
  },
  {
   "cell_type": "code",
   "execution_count": 64,
   "id": "6b1cdbbc",
   "metadata": {},
   "outputs": [],
   "source": [
    "X=df1.drop('avg_price',axis=1)\n",
    "y=df1['avg_price']\n",
    "#splitting the dataset\n",
    "X_train,X_test,y_train,y_test=train_test_split(X,y,test_size=.3,random_state=7)"
   ]
  },
  {
   "cell_type": "code",
   "execution_count": 54,
   "id": "98b4fbe4",
   "metadata": {},
   "outputs": [
    {
     "name": "stdout",
     "output_type": "stream",
     "text": [
      "0.5206810212625415\n"
     ]
    }
   ],
   "source": [
    "#model1 linea regression\n",
    "model1=LinearRegression()\n",
    "model1.fit(X_train,y_train)\n",
    "y_pred=model1.predict(X_test)\n",
    "model_name.append('Linear Regression')\n",
    "accuray.append(r2_score(y_pred,y_test))\n",
    "print(r2_score(y_pred,y_test))"
   ]
  },
  {
   "cell_type": "code",
   "execution_count": 48,
   "id": "425cceaa",
   "metadata": {
    "scrolled": true
   },
   "outputs": [
    {
     "name": "stdout",
     "output_type": "stream",
     "text": [
      "0.5480625136897315\n"
     ]
    }
   ],
   "source": [
    "#model2 KNN\n",
    "model2=KNeighborsRegressor()\n",
    "model2.fit(X_train,y_train)\n",
    "y_pred=model2.predict(X_test)\n",
    "print(r2_score(y_pred,y_test))\n",
    "model_name.append('KNN Regressor')\n",
    "accuray.append(r2_score(y_pred,y_test))"
   ]
  },
  {
   "cell_type": "code",
   "execution_count": 58,
   "id": "5da6c878",
   "metadata": {},
   "outputs": [],
   "source": [
    "from sklearn.svm import SVR,SVC\n",
    "from sklearn.ensemble import RandomForestRegressor"
   ]
  },
  {
   "cell_type": "code",
   "execution_count": 49,
   "id": "a77b332f",
   "metadata": {},
   "outputs": [
    {
     "name": "stdout",
     "output_type": "stream",
     "text": [
      "0.5411009191906001\n"
     ]
    }
   ],
   "source": [
    "#model3 DecisionTree regressor\n",
    "model3=DecisionTreeRegressor()\n",
    "model3.fit(X_train,y_train)\n",
    "y_pred=model3.predict(X_test)\n",
    "print(r2_score(y_pred,y_test))\n",
    "model_name.append('DecisionTree Regressor')\n",
    "accuray.append(r2_score(y_pred,y_test))"
   ]
  },
  {
   "cell_type": "code",
   "execution_count": 65,
   "id": "c9a25d11",
   "metadata": {},
   "outputs": [
    {
     "name": "stdout",
     "output_type": "stream",
     "text": [
      "0.6240095912340391\n"
     ]
    }
   ],
   "source": [
    "#model3 Random Forest regressor\n",
    "model3=RandomForestRegressor()\n",
    "model3.fit(X_train,y_train)\n",
    "y_pred=model3.predict(X_test)\n",
    "print(r2_score(y_pred,y_test))\n",
    "model_name.append('Random Forest Regressor')\n",
    "accuray.append(r2_score(y_pred,y_test))"
   ]
  },
  {
   "cell_type": "code",
   "execution_count": 50,
   "id": "bd6bd549",
   "metadata": {},
   "outputs": [
    {
     "name": "stdout",
     "output_type": "stream",
     "text": [
      "-2.5390608838206967\n"
     ]
    }
   ],
   "source": [
    "#model4 SVM regression\n",
    "model3=SVR()\n",
    "model3.fit(X_train,y_train)\n",
    "y_pred=model3.predict(X_test)\n",
    "print(r2_score(y_pred,y_test))\n",
    "model_name.append('Support Vector')\n",
    "accuray.append(r2_score(y_pred,y_test))"
   ]
  },
  {
   "cell_type": "code",
   "execution_count": 33,
   "id": "984a3cc3",
   "metadata": {},
   "outputs": [
    {
     "name": "stdout",
     "output_type": "stream",
     "text": [
      "0 =====> 0.5295909491660299\n",
      "1 =====> 0.41391184095806954\n",
      "2 =====> 0.5279680980866717\n",
      "3 =====> 0.5331294936477227\n",
      "4 =====> 0.6597517525104081\n",
      "5 =====> 0.4856352901402142\n",
      "6 =====> 0.5333181997465986\n",
      "7 =====> 0.6262130768120819\n",
      "8 =====> 0.6068723207564937\n",
      "9 =====> 0.5025381689754007\n",
      "10 =====> 0.6185347801801259\n",
      "11 =====> 0.6031491412157688\n",
      "12 =====> 0.5925942769794967\n",
      "13 =====> 0.6188860701035104\n",
      "14 =====> 0.6008425231677932\n",
      "15 =====> 0.5673272572717193\n",
      "16 =====> 0.5138477473015101\n",
      "17 =====> 0.5968575536594007\n",
      "18 =====> 0.567121448916432\n",
      "19 =====> 0.688236633454711\n",
      "20 =====> 0.5808677083316419\n",
      "21 =====> 0.5655027544291267\n",
      "22 =====> 0.6685099180975513\n",
      "23 =====> 0.5916706588610463\n",
      "24 =====> 0.5829755697759114\n",
      "25 =====> 0.5474355933421586\n",
      "26 =====> 0.6199968363444659\n",
      "27 =====> 0.609100924354173\n",
      "28 =====> 0.6008683230276519\n",
      "29 =====> 0.5594648560912701\n",
      "30 =====> 0.45601995518518845\n",
      "31 =====> 0.5883108861302566\n",
      "32 =====> 0.5937493426318192\n",
      "33 =====> 0.59388725322254\n",
      "34 =====> 0.6866721036105422\n",
      "35 =====> 0.5846741789883607\n",
      "36 =====> 0.6004079305083968\n",
      "37 =====> 0.3995985732111016\n",
      "38 =====> 0.5965740408473588\n",
      "39 =====> 0.5887663263555829\n",
      "40 =====> 0.49283494763207114\n",
      "41 =====> 0.694773713554133\n",
      "42 =====> 0.5834427385193467\n",
      "43 =====> 0.5599972414365886\n",
      "44 =====> 0.3889707373028951\n",
      "45 =====> 0.6288023742922906\n",
      "46 =====> 0.5328108232501195\n",
      "47 =====> 0.49603625205471347\n",
      "48 =====> 0.5413113947217578\n",
      "49 =====> 0.48891297217387875\n"
     ]
    }
   ],
   "source": [
    "for i in range(0,50):\n",
    "    X_train,X_test,y_train,y_test=train_test_split(X,y,test_size=.3,random_state=i)   #best is 41\n",
    "    #model2 linea regression\n",
    "    model3=RandomForestRegressor()\n",
    "    model3.fit(X_train,y_train)\n",
    "    y_pred=model3.predict(X_test)\n",
    "    print(i,'=====>',r2_score(y_pred,y_test))"
   ]
  },
  {
   "cell_type": "code",
   "execution_count": 34,
   "id": "ccbc159c",
   "metadata": {},
   "outputs": [
    {
     "name": "stdout",
     "output_type": "stream",
     "text": [
      "49 =====> 0.7013282023201328\n",
      "0.7013282023201328\n"
     ]
    }
   ],
   "source": [
    "    X_train,X_test,y_train,y_test=train_test_split(X,y,test_size=.3,random_state=41)   #best is 41\n",
    "    #model2 linea regression\n",
    "    model3=RandomForestRegressor()\n",
    "    model3.fit(X_train,y_train)\n",
    "    y_pred=model3.predict(X_test)\n",
    "    print(i,'=====>',r2_score(y_pred,y_test))\n",
    "    model_name.append('Random Forest Regressor')\n",
    "    accuray.append(r2_score(y_pred,y_test))\n",
    "    print(r2_score(y_pred,y_test))"
   ]
  },
  {
   "cell_type": "code",
   "execution_count": 35,
   "id": "27317082",
   "metadata": {},
   "outputs": [],
   "source": [
    "from sklearn.model_selection import KFold\n",
    "from sklearn.model_selection import cross_val_score\n",
    "from sklearn.ensemble import BaggingRegressor,AdaBoostRegressor"
   ]
  },
  {
   "cell_type": "code",
   "execution_count": 36,
   "id": "397526c2",
   "metadata": {},
   "outputs": [],
   "source": [
    "X=df1.drop('avg_price',axis=1)\n",
    "y=df1['avg_price']"
   ]
  },
  {
   "cell_type": "code",
   "execution_count": 39,
   "id": "e01e5953",
   "metadata": {
    "scrolled": true
   },
   "outputs": [
    {
     "name": "stdout",
     "output_type": "stream",
     "text": [
      "0.7039187324241847\n"
     ]
    }
   ],
   "source": [
    "#\n",
    "seed = 0\n",
    "\n",
    "kfold = KFold(n_splits=10, random_state=seed, shuffle=True)\n",
    "cart = RandomForestRegressor()\n",
    "num_trees = 100\n",
    "\n",
    "model = BaggingRegressor(base_estimator=cart, n_estimators=num_trees, random_state=seed)\n",
    "results = cross_val_score(model, X, y, cv=kfold)\n",
    "print(results.mean())\n",
    "model_name.append('Bagging Regressor')\n",
    "accuray.append(results.mean())"
   ]
  },
  {
   "cell_type": "code",
   "execution_count": 40,
   "id": "624d3b28",
   "metadata": {
    "scrolled": true
   },
   "outputs": [
    {
     "name": "stdout",
     "output_type": "stream",
     "text": [
      "0.7039187324241847\n"
     ]
    }
   ],
   "source": [
    "seed = 0\n",
    "\n",
    "kfold = KFold(n_splits=10, random_state=seed, shuffle=True)\n",
    "cart = RandomForestRegressor()\n",
    "num_trees = 100\n",
    "\n",
    "model = AdaBoostRegressor(base_estimator=cart, n_estimators=num_trees, random_state=seed)\n",
    "#results = cross_val_score(model, X, y, cv=kfold)\n",
    "print(results.mean())\n",
    "model_name.append('AdaBoostRegressor')\n",
    "accuray.append(results.mean())"
   ]
  },
  {
   "cell_type": "code",
   "execution_count": 41,
   "id": "80c31e60",
   "metadata": {},
   "outputs": [],
   "source": [
    "from xgboost import XGBRegressor"
   ]
  },
  {
   "cell_type": "code",
   "execution_count": 42,
   "id": "58c9844a",
   "metadata": {
    "scrolled": true
   },
   "outputs": [
    {
     "name": "stdout",
     "output_type": "stream",
     "text": [
      "[14:08:04] WARNING: C:/buildkite-agent/builds/buildkite-windows-cpu-autoscaling-group-i-08de971ced8a8cdc6-1/xgboost/xgboost-ci-windows/src/learner.cc:767: \n",
      "Parameters: { \"base_estimator\" } are not used.\n",
      "\n",
      "[14:08:04] WARNING: C:/buildkite-agent/builds/buildkite-windows-cpu-autoscaling-group-i-08de971ced8a8cdc6-1/xgboost/xgboost-ci-windows/src/learner.cc:767: \n",
      "Parameters: { \"base_estimator\" } are not used.\n",
      "\n",
      "[14:08:04] WARNING: C:/buildkite-agent/builds/buildkite-windows-cpu-autoscaling-group-i-08de971ced8a8cdc6-1/xgboost/xgboost-ci-windows/src/learner.cc:767: \n",
      "Parameters: { \"base_estimator\" } are not used.\n",
      "\n",
      "[14:08:04] WARNING: C:/buildkite-agent/builds/buildkite-windows-cpu-autoscaling-group-i-08de971ced8a8cdc6-1/xgboost/xgboost-ci-windows/src/learner.cc:767: \n",
      "Parameters: { \"base_estimator\" } are not used.\n",
      "\n",
      "[14:08:04] WARNING: C:/buildkite-agent/builds/buildkite-windows-cpu-autoscaling-group-i-08de971ced8a8cdc6-1/xgboost/xgboost-ci-windows/src/learner.cc:767: \n",
      "Parameters: { \"base_estimator\" } are not used.\n",
      "\n",
      "[14:08:04] WARNING: C:/buildkite-agent/builds/buildkite-windows-cpu-autoscaling-group-i-08de971ced8a8cdc6-1/xgboost/xgboost-ci-windows/src/learner.cc:767: \n",
      "Parameters: { \"base_estimator\" } are not used.\n",
      "\n",
      "[14:08:05] WARNING: C:/buildkite-agent/builds/buildkite-windows-cpu-autoscaling-group-i-08de971ced8a8cdc6-1/xgboost/xgboost-ci-windows/src/learner.cc:767: \n",
      "Parameters: { \"base_estimator\" } are not used.\n",
      "\n",
      "[14:08:05] WARNING: C:/buildkite-agent/builds/buildkite-windows-cpu-autoscaling-group-i-08de971ced8a8cdc6-1/xgboost/xgboost-ci-windows/src/learner.cc:767: \n",
      "Parameters: { \"base_estimator\" } are not used.\n",
      "\n",
      "[14:08:05] WARNING: C:/buildkite-agent/builds/buildkite-windows-cpu-autoscaling-group-i-08de971ced8a8cdc6-1/xgboost/xgboost-ci-windows/src/learner.cc:767: \n",
      "Parameters: { \"base_estimator\" } are not used.\n",
      "\n",
      "[14:08:05] WARNING: C:/buildkite-agent/builds/buildkite-windows-cpu-autoscaling-group-i-08de971ced8a8cdc6-1/xgboost/xgboost-ci-windows/src/learner.cc:767: \n",
      "Parameters: { \"base_estimator\" } are not used.\n",
      "\n",
      "0.6513705609027267\n"
     ]
    }
   ],
   "source": [
    "seed = 0\n",
    "\n",
    "kfold = KFold(n_splits=10, random_state=seed, shuffle=True)\n",
    "cart = RandomForestRegressor()\n",
    "num_trees = 100\n",
    "\n",
    "model = XGBRegressor(base_estimator=cart, n_estimators=num_trees, random_state=seed)\n",
    "results = cross_val_score(model, X, y, cv=kfold)\n",
    "print(results.mean())\n",
    "model_name.append('XGBRegressor')\n",
    "accuray.append(results.mean())"
   ]
  },
  {
   "cell_type": "code",
   "execution_count": 55,
   "id": "44818ebe",
   "metadata": {},
   "outputs": [],
   "source": [
    "result=pd.DataFrame()"
   ]
  },
  {
   "cell_type": "code",
   "execution_count": 56,
   "id": "9e2e3269",
   "metadata": {},
   "outputs": [],
   "source": [
    "result['Model Name']=model_name\n",
    "result['Accuracy']=accuray"
   ]
  },
  {
   "cell_type": "code",
   "execution_count": 57,
   "id": "a6cefc29",
   "metadata": {},
   "outputs": [
    {
     "data": {
      "text/html": [
       "<div>\n",
       "<style scoped>\n",
       "    .dataframe tbody tr th:only-of-type {\n",
       "        vertical-align: middle;\n",
       "    }\n",
       "\n",
       "    .dataframe tbody tr th {\n",
       "        vertical-align: top;\n",
       "    }\n",
       "\n",
       "    .dataframe thead th {\n",
       "        text-align: right;\n",
       "    }\n",
       "</style>\n",
       "<table border=\"1\" class=\"dataframe\">\n",
       "  <thead>\n",
       "    <tr style=\"text-align: right;\">\n",
       "      <th></th>\n",
       "      <th>Model Name</th>\n",
       "      <th>Accuracy</th>\n",
       "    </tr>\n",
       "  </thead>\n",
       "  <tbody>\n",
       "    <tr>\n",
       "      <th>1</th>\n",
       "      <td>Bagging Regressor</td>\n",
       "      <td>0.703919</td>\n",
       "    </tr>\n",
       "    <tr>\n",
       "      <th>2</th>\n",
       "      <td>AdaBoostRegressor</td>\n",
       "      <td>0.703919</td>\n",
       "    </tr>\n",
       "    <tr>\n",
       "      <th>0</th>\n",
       "      <td>Random Forest Regressor</td>\n",
       "      <td>0.701328</td>\n",
       "    </tr>\n",
       "    <tr>\n",
       "      <th>3</th>\n",
       "      <td>XGBRegressor</td>\n",
       "      <td>0.651371</td>\n",
       "    </tr>\n",
       "    <tr>\n",
       "      <th>4</th>\n",
       "      <td>KNN Regressor</td>\n",
       "      <td>0.548063</td>\n",
       "    </tr>\n",
       "    <tr>\n",
       "      <th>5</th>\n",
       "      <td>DecisionTree Regressor</td>\n",
       "      <td>0.541101</td>\n",
       "    </tr>\n",
       "    <tr>\n",
       "      <th>7</th>\n",
       "      <td>Linear Regression</td>\n",
       "      <td>0.520681</td>\n",
       "    </tr>\n",
       "    <tr>\n",
       "      <th>6</th>\n",
       "      <td>Support Vector</td>\n",
       "      <td>-2.539061</td>\n",
       "    </tr>\n",
       "  </tbody>\n",
       "</table>\n",
       "</div>"
      ],
      "text/plain": [
       "                Model Name  Accuracy\n",
       "1        Bagging Regressor  0.703919\n",
       "2        AdaBoostRegressor  0.703919\n",
       "0  Random Forest Regressor  0.701328\n",
       "3             XGBRegressor  0.651371\n",
       "4            KNN Regressor  0.548063\n",
       "5   DecisionTree Regressor  0.541101\n",
       "7        Linear Regression  0.520681\n",
       "6           Support Vector -2.539061"
      ]
     },
     "execution_count": 57,
     "metadata": {},
     "output_type": "execute_result"
    }
   ],
   "source": [
    "result.sort_values('Accuracy',ascending=False)"
   ]
  },
  {
   "cell_type": "code",
   "execution_count": 46,
   "id": "16782de4",
   "metadata": {},
   "outputs": [],
   "source": [
    "df=pd.read_csv('final_dataset.csv')\n",
    "df.drop(['Unnamed: 0','location_details','property_name'],axis=1,inplace=True)"
   ]
  },
  {
   "cell_type": "code",
   "execution_count": null,
   "id": "bfe74fb9",
   "metadata": {},
   "outputs": [],
   "source": [
    "df['completion_status']=df['completion_status'].map(search)\n",
    "df['age_of_building']=df['completion_status'].map(extract_age)"
   ]
  },
  {
   "cell_type": "code",
   "execution_count": null,
   "id": "9b8441d1",
   "metadata": {},
   "outputs": [],
   "source": [
    "df.drop(['completion_status','price_per_sq_ft'],axis=1,inplace=True)"
   ]
  },
  {
   "cell_type": "code",
   "execution_count": null,
   "id": "b82f4896",
   "metadata": {},
   "outputs": [],
   "source": [
    "df['availability'].unique()"
   ]
  },
  {
   "cell_type": "code",
   "execution_count": null,
   "id": "19fcd777",
   "metadata": {},
   "outputs": [],
   "source": [
    "from sklearn.preprocessing import LabelEncoder\n",
    "from sklearn.compose import make_column_transformer\n",
    "from sklearn.preprocessing import OneHotEncoder,StandardScaler\n",
    "enco=LabelEncoder()"
   ]
  },
  {
   "cell_type": "code",
   "execution_count": null,
   "id": "7b58f900",
   "metadata": {},
   "outputs": [],
   "source": [
    "df"
   ]
  },
  {
   "cell_type": "code",
   "execution_count": null,
   "id": "8ad367ec",
   "metadata": {},
   "outputs": [],
   "source": [
    "X=df.drop('avg_price',axis=1)\n",
    "y=df['avg_price']"
   ]
  },
  {
   "cell_type": "code",
   "execution_count": null,
   "id": "522c2376",
   "metadata": {},
   "outputs": [],
   "source": [
    "df['area_type'].unique()"
   ]
  },
  {
   "cell_type": "code",
   "execution_count": null,
   "id": "2e308f31",
   "metadata": {},
   "outputs": [],
   "source": [
    "from pipes import makepipeline"
   ]
  },
  {
   "cell_type": "code",
   "execution_count": null,
   "id": "bec3b1c9",
   "metadata": {},
   "outputs": [],
   "source": [
    "column_tran=make_column_transformer((OneHotEncoder(sparse=False),['region','size','availability','area_type']),remainder='passthrough')"
   ]
  },
  {
   "cell_type": "code",
   "execution_count": null,
   "id": "c603aeaa",
   "metadata": {},
   "outputs": [],
   "source": [
    "X_train,X_test,y_train,y_test=train_test_split(X,y,test_size=.3,random_state=41)   #best is 41"
   ]
  },
  {
   "cell_type": "code",
   "execution_count": null,
   "id": "323f757f",
   "metadata": {},
   "outputs": [],
   "source": [
    "sclar=StandardScaler()\n",
    "model=RandomForestRegressor()"
   ]
  },
  {
   "cell_type": "code",
   "execution_count": null,
   "id": "a1d24575",
   "metadata": {},
   "outputs": [],
   "source": [
    "from sklearn.pipeline import make_pipeline"
   ]
  },
  {
   "cell_type": "code",
   "execution_count": null,
   "id": "99bee744",
   "metadata": {},
   "outputs": [],
   "source": [
    "pipe=make_pipeline(column_tran,model)"
   ]
  },
  {
   "cell_type": "code",
   "execution_count": null,
   "id": "0608e685",
   "metadata": {},
   "outputs": [],
   "source": [
    "pipe.fit(X_train,y_train)"
   ]
  },
  {
   "cell_type": "code",
   "execution_count": null,
   "id": "d680db5b",
   "metadata": {},
   "outputs": [],
   "source": [
    "y_pred=pipe.predict(X_test)"
   ]
  }
 ],
 "metadata": {
  "kernelspec": {
   "display_name": "Python 3 (ipykernel)",
   "language": "python",
   "name": "python3"
  },
  "language_info": {
   "codemirror_mode": {
    "name": "ipython",
    "version": 3
   },
   "file_extension": ".py",
   "mimetype": "text/x-python",
   "name": "python",
   "nbconvert_exporter": "python",
   "pygments_lexer": "ipython3",
   "version": "3.9.12"
  }
 },
 "nbformat": 4,
 "nbformat_minor": 5
}
