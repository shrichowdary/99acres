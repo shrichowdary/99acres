{
 "cells": [
  {
   "cell_type": "code",
   "execution_count": 1,
   "id": "084084ba",
   "metadata": {},
   "outputs": [],
   "source": [
    "from selenium import webdriver\n",
    "from selenium.webdriver.common.by import By\n",
    "import time\n",
    "import pandas as pd\n",
    "import re\n",
    "#from selenium.webdriver.chrome.service import Service"
   ]
  },
  {
   "cell_type": "code",
   "execution_count": 2,
   "id": "0d00a5f2",
   "metadata": {},
   "outputs": [],
   "source": [
    "#path\n",
    "#ser_obj='path'\n",
    "#driver=webdriver.Chrome(service=ser_obj)\n",
    "\n",
    "website='https://www.99acres.com/'\n",
    "driver=webdriver.Chrome()\n",
    "driver.get(website)\n",
    "driver.maximize_window()\n",
    "#driver.quit()"
   ]
  },
  {
   "cell_type": "code",
   "execution_count": 3,
   "id": "36b2e2d7",
   "metadata": {},
   "outputs": [],
   "source": [
    "#List containing the city name for searching\n",
    "city=['Bangalore (All)','Pune','Chennai (All)']"
   ]
  },
  {
   "cell_type": "code",
   "execution_count": 4,
   "id": "a9c0d058",
   "metadata": {},
   "outputs": [],
   "source": [
    "#declaring empty list for appending the respective info\n",
    "building_name=[]\n",
    "price=[]\n",
    "region=[]\n",
    "location=[]\n",
    "building_type=[]\n",
    "near_by=[]\n",
    "availability=[]\n",
    "#list declaration for second data frame\n",
    "floor_area=[]\n",
    "app_name=[]\n",
    "app_price=[]\n",
    "area_ty=[]\n",
    "loc_det=[]\n",
    "app_size=[]\n",
    "comp_sta=[]\n",
    "app_status=[]\n",
    "app_region=[]"
   ]
  },
  {
   "cell_type": "code",
   "execution_count": 5,
   "id": "9c9ca51f",
   "metadata": {},
   "outputs": [],
   "source": [
    "#This function is used to select enter the city name and go to the relevant page of the website\n",
    "def selecting_city():\n",
    "        #Selecting data for a particular city\n",
    "    element=driver.find_element(by=By.XPATH, value='//input[@class=\"component__searchInput\"]')\n",
    "    #selecting the city from the list declared above\n",
    "    element.send_keys(city[1])\n",
    "    #setting a waiting time for the drop down to appear\n",
    "    time.sleep(1.5)\n",
    "    #selecting the first element from the dropdown\n",
    "    driver.find_element(By.XPATH,value='//li[@id=\"0\"]').click()\n",
    "    #hitting search button\n",
    "    driver.find_element(By.XPATH,value='//button[@type=\"submit\" and @variant=\"primaryRegular\" ]').click()"
   ]
  },
  {
   "cell_type": "code",
   "execution_count": 11,
   "id": "1d28591e",
   "metadata": {},
   "outputs": [],
   "source": [
    "def scroll_page_():\n",
    "    for i in range(15):\n",
    "        driver.execute_script(\"window.scrollBy(0, 4200)\")\n",
    "        #setting sleep/waiting time for the page to load\n",
    "        time.sleep(1)"
   ]
  },
  {
   "cell_type": "code",
   "execution_count": 7,
   "id": "45d35521",
   "metadata": {},
   "outputs": [],
   "source": [
    "#function for collecting the data\n",
    "def collecting_data():\n",
    "    #setting some default value if it does not extract  any value\n",
    "    res_name=res_price=res_loc=avl=temp='unknown'\n",
    "    \n",
    "        #extracting web element containing all property details\n",
    "    val=driver.find_elements(By.XPATH,value='//section[@data-hydration-on-demand=\"true\"]')\n",
    "    #extracting web element containing each property detail\n",
    "    res=val[6].find_elements(By.XPATH,value='//div[@style=\"height: 82%;\"]')\n",
    "    #extracting property name\n",
    "    res_name=res[1].find_elements(By.XPATH,value='//*[@class=\"projectTuple__projectName  projectTuple__pdWrap20 ellipsis\"]')\n",
    "    #extracting property price\n",
    "    res_price=res[1].find_elements(By.XPATH,value='//span[@class=\"list_header_bold configurationCards__srpPriceHeading configurationCards__configurationCardsHeading\"]')\n",
    "    #extracting property location\n",
    "    res_loc=res[1].find_elements(By.XPATH,value='//h2[@class=\"projectTuple__subHeadingWrap body_med ellipsis\"]')\n",
    "    #extracting property avilability\n",
    "    avl=val[6].find_elements(By.XPATH,value='//div[@class=\"projectTuple__carouselTag projectTuple__carouselShortlistTagPostioning \"]')\n",
    "    #extracting property and thier options\n",
    "    temp=val[6].find_elements(By.XPATH,value='//div[@class=\"configurationCards__cardsWrapper configurationCards__srpCardStyle\"]')\n",
    "\n",
    "    #loops to append elements to list\n",
    "    for x,y,z in zip(res_name,res_price,res_loc):\n",
    "        building_name.append(x.text)\n",
    "        price.append(y.text)\n",
    "        location.append(z.text)\n",
    "    for i in range(len(avl)):\n",
    "        availability.append(avl[i].text)\n",
    "    for x in temp:\n",
    "        building_type.append(x.text)"
   ]
  },
  {
   "cell_type": "code",
   "execution_count": 8,
   "id": "5d9dd6bb",
   "metadata": {},
   "outputs": [],
   "source": [
    "#alternate function to collect data\n",
    "def collecting_data2():\n",
    "        #sub section\n",
    "    val_2=driver.find_elements(By.XPATH,value='//div[@class=\"srpTuple__cardWrap tupleCardWrap\"]')\n",
    "    #location details\n",
    "    loc_detail=val_2[0].find_elements(By.XPATH,value='//td[@class=\"srpTuple__tdClassPremium\"]')\n",
    "    #name of property\n",
    "    name2=val_2[0].find_elements(By.XPATH,value='//td[@class=\"srpTuple__propertyPremiumHeading srpTuple__spacer10 srpTuple__tdClasstwoPremium \"]')\n",
    "    #price and size details\n",
    "    detail=val_2[0].find_elements(By.XPATH,value='//tr[@class=\"srpTuple__flexWrap\"]')\n",
    "    #avilability status\n",
    "    avil=val_2[0].find_elements(By.XPATH,value='//div[@class=\"f10 Ng100 srpTuple__postedByText ellipsis\"]')\n",
    "    #area specification\n",
    "    area_spec=val_2[0].find_elements(By.XPATH,value='//td[@class=\"srpTuple__col title_semiBold  \"]')\n",
    "    \n",
    "    for x,y,z,a,b in zip(name2,detail,loc_detail,avil,area_spec):\n",
    "        app_name.append(x.text)\n",
    "        loc_det.append(z.text)\n",
    "        app_price.append(str(y.text).split('\\n')[0]) \n",
    "        app_size.append(str(y.text).split('\\n')[-2])\n",
    "\n",
    "        try:\n",
    "            floor_area.append(str(y.text).split('\\n')[2])\n",
    "        except:\n",
    "            floor_area.append('unknown')\n",
    "\n",
    "        temp1=z.text.split()[-3:]\n",
    "        temp1=' '.join(temp1)\n",
    "        app_region.append(temp1)\n",
    "\n",
    "        temp2=str(a.text).split()[3:-2]\n",
    "        temp2=' '.join(temp2)\n",
    "        temp2='Since '+str(temp2)\n",
    "        comp_sta.append(temp2)\n",
    "        app_status.append('Ready To Move')\n",
    "        area_ty.append(b.text.split(')')[-1])"
   ]
  },
  {
   "cell_type": "code",
   "execution_count": 9,
   "id": "1a496cb2",
   "metadata": {},
   "outputs": [],
   "source": [
    "def next_page():\n",
    "    time.sleep(1)\n",
    "    #code for scrolling to page to a particular height for entering the next button\n",
    "    driver.execute_script(\"window.scrollTo(0, document.body.scrollHeight);\")\n",
    "    time.sleep(1)\n",
    "    driver.execute_script(\"window.scrollTo(0, document.body.scrollHeight-4500);\")\n",
    "    time.sleep(1)\n",
    "    #command for next button\n",
    "    driver.find_elements(By.XPATH,value='//a[@class=\"list_header_bold\" and contains(text(),\"Next Page\")]')[0].click()"
   ]
  },
  {
   "cell_type": "code",
   "execution_count": 12,
   "id": "861e54cc",
   "metadata": {
    "scrolled": true
   },
   "outputs": [
    {
     "name": "stdout",
     "output_type": "stream",
     "text": [
      "scrapping page = 1\n",
      "scrapping page = 2\n",
      "exception\n"
     ]
    },
    {
     "ename": "IndexError",
     "evalue": "list index out of range",
     "output_type": "error",
     "traceback": [
      "\u001b[1;31m---------------------------------------------------------------------------\u001b[0m",
      "\u001b[1;31mIndexError\u001b[0m                                Traceback (most recent call last)",
      "\u001b[1;32m~\\AppData\\Local\\Temp\\ipykernel_8056\\2769833487.py\u001b[0m in \u001b[0;36m<cell line: 3>\u001b[1;34m()\u001b[0m\n\u001b[0;32m      9\u001b[0m             \u001b[0mscroll_page_\u001b[0m\u001b[1;33m(\u001b[0m\u001b[1;33m)\u001b[0m\u001b[1;33m\u001b[0m\u001b[1;33m\u001b[0m\u001b[0m\n\u001b[1;32m---> 10\u001b[1;33m             \u001b[0mcollecting_data\u001b[0m\u001b[1;33m(\u001b[0m\u001b[1;33m)\u001b[0m\u001b[1;33m\u001b[0m\u001b[1;33m\u001b[0m\u001b[0m\n\u001b[0m\u001b[0;32m     11\u001b[0m             \u001b[0mnext_page\u001b[0m\u001b[1;33m(\u001b[0m\u001b[1;33m)\u001b[0m\u001b[1;33m\u001b[0m\u001b[1;33m\u001b[0m\u001b[0m\n",
      "\u001b[1;32m~\\AppData\\Local\\Temp\\ipykernel_8056\\2742855982.py\u001b[0m in \u001b[0;36mcollecting_data\u001b[1;34m()\u001b[0m\n\u001b[0;32m     10\u001b[0m     \u001b[1;31m#extracting property name\u001b[0m\u001b[1;33m\u001b[0m\u001b[1;33m\u001b[0m\u001b[0m\n\u001b[1;32m---> 11\u001b[1;33m     \u001b[0mres_name\u001b[0m\u001b[1;33m=\u001b[0m\u001b[0mres\u001b[0m\u001b[1;33m[\u001b[0m\u001b[1;36m1\u001b[0m\u001b[1;33m]\u001b[0m\u001b[1;33m.\u001b[0m\u001b[0mfind_elements\u001b[0m\u001b[1;33m(\u001b[0m\u001b[0mBy\u001b[0m\u001b[1;33m.\u001b[0m\u001b[0mXPATH\u001b[0m\u001b[1;33m,\u001b[0m\u001b[0mvalue\u001b[0m\u001b[1;33m=\u001b[0m\u001b[1;34m'//*[@class=\"projectTuple__projectName  projectTuple__pdWrap20 ellipsis\"]'\u001b[0m\u001b[1;33m)\u001b[0m\u001b[1;33m\u001b[0m\u001b[1;33m\u001b[0m\u001b[0m\n\u001b[0m\u001b[0;32m     12\u001b[0m     \u001b[1;31m#extracting property price\u001b[0m\u001b[1;33m\u001b[0m\u001b[1;33m\u001b[0m\u001b[0m\n",
      "\u001b[1;31mIndexError\u001b[0m: list index out of range",
      "\nDuring handling of the above exception, another exception occurred:\n",
      "\u001b[1;31mIndexError\u001b[0m                                Traceback (most recent call last)",
      "\u001b[1;32m~\\AppData\\Local\\Temp\\ipykernel_8056\\2769833487.py\u001b[0m in \u001b[0;36m<cell line: 3>\u001b[1;34m()\u001b[0m\n\u001b[0;32m     13\u001b[0m             \u001b[0mprint\u001b[0m\u001b[1;33m(\u001b[0m\u001b[1;34m'exception'\u001b[0m\u001b[1;33m)\u001b[0m\u001b[1;33m\u001b[0m\u001b[1;33m\u001b[0m\u001b[0m\n\u001b[0;32m     14\u001b[0m             \u001b[0mscroll_page_\u001b[0m\u001b[1;33m(\u001b[0m\u001b[1;33m)\u001b[0m\u001b[1;33m\u001b[0m\u001b[1;33m\u001b[0m\u001b[0m\n\u001b[1;32m---> 15\u001b[1;33m             \u001b[0mcollecting_data2\u001b[0m\u001b[1;33m(\u001b[0m\u001b[1;33m)\u001b[0m\u001b[1;33m\u001b[0m\u001b[1;33m\u001b[0m\u001b[0m\n\u001b[0m\u001b[0;32m     16\u001b[0m             \u001b[0mnext_page\u001b[0m\u001b[1;33m(\u001b[0m\u001b[1;33m)\u001b[0m\u001b[1;33m\u001b[0m\u001b[1;33m\u001b[0m\u001b[0m\n",
      "\u001b[1;32m~\\AppData\\Local\\Temp\\ipykernel_8056\\3305211143.py\u001b[0m in \u001b[0;36mcollecting_data2\u001b[1;34m()\u001b[0m\n\u001b[0;32m      4\u001b[0m     \u001b[0mval_2\u001b[0m\u001b[1;33m=\u001b[0m\u001b[0mdriver\u001b[0m\u001b[1;33m.\u001b[0m\u001b[0mfind_elements\u001b[0m\u001b[1;33m(\u001b[0m\u001b[0mBy\u001b[0m\u001b[1;33m.\u001b[0m\u001b[0mXPATH\u001b[0m\u001b[1;33m,\u001b[0m\u001b[0mvalue\u001b[0m\u001b[1;33m=\u001b[0m\u001b[1;34m'//div[@class=\"srpTuple__cardWrap tupleCardWrap\"]'\u001b[0m\u001b[1;33m)\u001b[0m\u001b[1;33m\u001b[0m\u001b[1;33m\u001b[0m\u001b[0m\n\u001b[0;32m      5\u001b[0m     \u001b[1;31m#location details\u001b[0m\u001b[1;33m\u001b[0m\u001b[1;33m\u001b[0m\u001b[0m\n\u001b[1;32m----> 6\u001b[1;33m     \u001b[0mloc_detail\u001b[0m\u001b[1;33m=\u001b[0m\u001b[0mval_2\u001b[0m\u001b[1;33m[\u001b[0m\u001b[1;36m0\u001b[0m\u001b[1;33m]\u001b[0m\u001b[1;33m.\u001b[0m\u001b[0mfind_elements\u001b[0m\u001b[1;33m(\u001b[0m\u001b[0mBy\u001b[0m\u001b[1;33m.\u001b[0m\u001b[0mXPATH\u001b[0m\u001b[1;33m,\u001b[0m\u001b[0mvalue\u001b[0m\u001b[1;33m=\u001b[0m\u001b[1;34m'//td[@class=\"srpTuple__tdClassPremium\"]'\u001b[0m\u001b[1;33m)\u001b[0m\u001b[1;33m\u001b[0m\u001b[1;33m\u001b[0m\u001b[0m\n\u001b[0m\u001b[0;32m      7\u001b[0m     \u001b[1;31m#name of property\u001b[0m\u001b[1;33m\u001b[0m\u001b[1;33m\u001b[0m\u001b[0m\n\u001b[0;32m      8\u001b[0m     \u001b[0mname2\u001b[0m\u001b[1;33m=\u001b[0m\u001b[0mval_2\u001b[0m\u001b[1;33m[\u001b[0m\u001b[1;36m0\u001b[0m\u001b[1;33m]\u001b[0m\u001b[1;33m.\u001b[0m\u001b[0mfind_elements\u001b[0m\u001b[1;33m(\u001b[0m\u001b[0mBy\u001b[0m\u001b[1;33m.\u001b[0m\u001b[0mXPATH\u001b[0m\u001b[1;33m,\u001b[0m\u001b[0mvalue\u001b[0m\u001b[1;33m=\u001b[0m\u001b[1;34m'//td[@class=\"srpTuple__propertyPremiumHeading srpTuple__spacer10 srpTuple__tdClasstwoPremium \"]'\u001b[0m\u001b[1;33m)\u001b[0m\u001b[1;33m\u001b[0m\u001b[1;33m\u001b[0m\u001b[0m\n",
      "\u001b[1;31mIndexError\u001b[0m: list index out of range"
     ]
    }
   ],
   "source": [
    "#enter the page number\n",
    "pages=12\n",
    "for i in range(pages):\n",
    "    if i==0:\n",
    "        selecting_city()\n",
    "    else:\n",
    "        try:\n",
    "            print('scrapping page =',i)\n",
    "            scroll_page_()\n",
    "            collecting_data()\n",
    "            next_page()\n",
    "        except:\n",
    "            print('exception')\n",
    "            scroll_page_()\n",
    "            collecting_data2()\n",
    "            next_page()"
   ]
  },
  {
   "cell_type": "code",
   "execution_count": null,
   "id": "c1118a5c",
   "metadata": {},
   "outputs": [],
   "source": [
    "#second dataframe\n",
    "dat={'property_name':app_name,'size':app_size,'carpet_area':floor_area,'price':app_price,'avg_price':app_price,'location_details':loc_det,'region':app_region,'availability':app_status,'completion_status':comp_sta,'area_type':area_ty}\n",
    "df1=pd.DataFrame(dat)"
   ]
  },
  {
   "cell_type": "code",
   "execution_count": null,
   "id": "d610c332",
   "metadata": {},
   "outputs": [],
   "source": [
    "df=df1"
   ]
  },
  {
   "cell_type": "code",
   "execution_count": null,
   "id": "a067cba0",
   "metadata": {},
   "outputs": [],
   "source": [
    "#creating the dataset\n",
    "data={'Property_name':building_name,'Price':price,'Location_details':location,'Building_Type':building_type}\n",
    "df=pd.DataFrame(data)\n",
    "#creating the feature called region (extracted the last 2 words from the loaction details column)\n",
    "for i in range(len(df)):\n",
    "    region.append(df['Location_details'][i].split()[-2]+' '+df['Location_details'][i].split()[-1])\n",
    "df['region']=region\n",
    "#dropping the row with null in building type\n",
    "df.drop(df[df['Building_Type']==''].index,axis=0,inplace=True)\n",
    "df['availability_of_building']=availability\n",
    "#extracting current building status and info regarding the finishing/finished date of construction\n",
    "df['availability']=df['availability_of_building'].map(lambda x:x.split('\\n')[0])\n",
    "df['completion_status']=df['availability_of_building'].map(lambda x:x.split('\\n')[-1])\n",
    "df.drop('availability_of_building',axis=1,inplace=True)\n",
    "df['completion_status']=df['completion_status'].str.replace('Ready To Move','unknown')\n",
    "\n",
    "#resetting the index\n",
    "df=df.reset_index()\n",
    "df.drop('index',axis=1,inplace=True)"
   ]
  },
  {
   "cell_type": "code",
   "execution_count": null,
   "id": "ac636542",
   "metadata": {},
   "outputs": [],
   "source": [
    "df"
   ]
  },
  {
   "cell_type": "code",
   "execution_count": null,
   "id": "e232cd1c",
   "metadata": {},
   "outputs": [],
   "source": [
    "size1=[]\n",
    "size2=[]\n",
    "size3=[]"
   ]
  },
  {
   "cell_type": "code",
   "execution_count": null,
   "id": "bb601714",
   "metadata": {},
   "outputs": [],
   "source": [
    "for i in range(len(df)):\n",
    "    text=str(df['Building_Type'][i]).lower()\n",
    "    ob1=re.compile(r'\\d{1}\\sbhk*|land')\n",
    "    k=ob1.findall(text)\n",
    "    if len(k)==0:\n",
    "        size1.append('nil')\n",
    "        size2.append('nil')\n",
    "        size3.append('nil')\n",
    "    elif len(k)==1:\n",
    "        size1.append(ob1.findall(text)[0]+\" \"+ob1.split(text)[1])\n",
    "        size2.append('nil')\n",
    "        size3.append('nil')\n",
    "    elif len(k)==2:\n",
    "        size1.append(ob1.findall(text)[0]+\" \"+ob1.split(text)[1])\n",
    "        size2.append(ob1.findall(text)[1]+\" \"+ob1.split(text)[2])\n",
    "        size3.append('nil')\n",
    "    else:\n",
    "        size1.append(ob1.findall(text)[0]+\" \"+ob1.split(text)[1])\n",
    "        size2.append(ob1.findall(text)[1]+\" \"+ob1.split(text)[2])\n",
    "        size3.append(ob1.findall(text)[2]+\" \"+ob1.split(text)[3])"
   ]
  },
  {
   "cell_type": "code",
   "execution_count": null,
   "id": "dfb03c22",
   "metadata": {},
   "outputs": [],
   "source": [
    "#adding the size details to the data frame\n",
    "df['size1']=size1\n",
    "df['size2']=size2\n",
    "df['size3']=size3"
   ]
  },
  {
   "cell_type": "code",
   "execution_count": null,
   "id": "0730a165",
   "metadata": {},
   "outputs": [],
   "source": [
    "name_property=[]\n",
    "size=[]\n",
    "carpet_area=[]\n",
    "price_range=[]\n",
    "avg_price=[]\n",
    "location_details=[]\n",
    "region_1=[]\n",
    "availability_stat=[]\n",
    "completion_stat=[]\n",
    "area_type=[]"
   ]
  },
  {
   "cell_type": "code",
   "execution_count": null,
   "id": "872f17da",
   "metadata": {},
   "outputs": [],
   "source": [
    "for i in range(len(df)):\n",
    "    if df['size1'][i]!='nil':\n",
    "        try:\n",
    "            t1=df['Property_name'][i]                 #gets name of the property\n",
    "            t2=df['size1'][i].split('\\n')[0]          #get size details\n",
    "            t3=df['size1'][i].split('\\n')[3]          #gets carpet area\n",
    "            t4=df['size1'][i].split('\\n')[5]          #gets price range\n",
    "            t5=df['Price'][i]                         #gets average price\n",
    "            t6=df['Location_details'][i]              #gets location details\n",
    "            t7=df['region'][i]                        #gets the region\n",
    "            t8=df['availability'][i]                  #gets the availability status\n",
    "            t9=df['completion_status'][i]             #gets completion status\n",
    "            t10=df['size1'][i].split('\\n')[2]         #gets area type info\n",
    "        except:\n",
    "            t1=t2=t3=t4=t5=t6=t7=t8=t9=t10='unknown'\n",
    "        name_property.append(t1)\n",
    "        size.append(t2)\n",
    "        carpet_area.append(t3)\n",
    "        price_range.append(t4)\n",
    "        avg_price.append(t5)\n",
    "        location_details.append(t6)\n",
    "        region_1.append(t7)\n",
    "        availability_stat.append(t8)\n",
    "        completion_stat.append(t9)\n",
    "        area_type.append(t10)\n",
    "        \n",
    "    if df['size2'][i]!='nil':\n",
    "        try:\n",
    "            t1=df['Property_name'][i]                 #gets name of the property\n",
    "            t2=df['size2'][i].split('\\n')[0]          #get size details\n",
    "            t3=df['size2'][i].split('\\n')[3]          #gets carpet area\n",
    "            t4=df['size2'][i].split('\\n')[5]          #gets price range\n",
    "            t5=df['Price'][i]                         #gets average price\n",
    "            t6=df['Location_details'][i]              #gets location details\n",
    "            t7=df['region'][i]                        #gets the region\n",
    "            t8=df['availability'][i]                  #gets the availability status\n",
    "            t9=df['completion_status'][i]             #gets completion status\n",
    "            t10=df['size2'][i].split('\\n')[2]         #gets area type info\n",
    "        except:\n",
    "            t1=t2=t3=t4=t5=t6=t7=t8=t9=t10='unknown'\n",
    "        name_property.append(t1)\n",
    "        size.append(t2)\n",
    "        carpet_area.append(t3)\n",
    "        price_range.append(t4)\n",
    "        avg_price.append(t5)\n",
    "        location_details.append(t6)\n",
    "        region_1.append(t7)\n",
    "        availability_stat.append(t8)\n",
    "        completion_stat.append(t9)\n",
    "        area_type.append(t10)\n",
    "        \n",
    "    if df['size3'][i]!='nil':\n",
    "        try:\n",
    "            t1=df['Property_name'][i]                 #gets name of the property\n",
    "            t2=df['size3'][i].split('\\n')[0]          #get size details\n",
    "            t3=df['size3'][i].split('\\n')[3]          #gets carpet area\n",
    "            t4=df['size3'][i].split('\\n')[5]          #gets price range\n",
    "            t5=df['Price'][i]                         #gets average price\n",
    "            t6=df['Location_details'][i]              #gets location details\n",
    "            t7=df['region'][i]                        #gets the region\n",
    "            t8=df['availability'][i]                  #gets the availability status\n",
    "            t9=df['completion_status'][i]             #gets completion status\n",
    "            t10=df['size3'][i].split('\\n')[2]         #gets area type info\n",
    "        except:\n",
    "            t1=t2=t3=t4=t5=t6=t7=t8=t9=t10='unknown'\n",
    "        name_property.append(t1)\n",
    "        size.append(t2)\n",
    "        carpet_area.append(t3)\n",
    "        price_range.append(t4)\n",
    "        avg_price.append(t5)\n",
    "        location_details.append(t6)\n",
    "        region_1.append(t7)\n",
    "        availability_stat.append(t8)\n",
    "        completion_stat.append(t9)\n",
    "        area_type.append(t10)"
   ]
  },
  {
   "cell_type": "code",
   "execution_count": null,
   "id": "e3c2d47f",
   "metadata": {},
   "outputs": [],
   "source": [
    "#creating the final data set\n",
    "final_data=pd.DataFrame()\n",
    "final_data['property_name']=name_property\n",
    "final_data['size']=size\n",
    "final_data['carpet_area']=carpet_area\n",
    "final_data['price']=price_range\n",
    "final_data['avg_price']=avg_price\n",
    "final_data['location_details']=location_details\n",
    "final_data['region']=region_1\n",
    "final_data['availability']=availability_stat\n",
    "final_data['completion_status']=completion_stat\n",
    "final_data['area_type']=area_type"
   ]
  },
  {
   "cell_type": "code",
   "execution_count": null,
   "id": "f942d9fd",
   "metadata": {},
   "outputs": [],
   "source": [
    "#dropping the data's which had issues during the transformation\n",
    "final_data.drop(final_data[final_data['property_name']=='unknown'].index,axis=0,inplace=True)\n",
    "final_data=final_data.reset_index()\n",
    "final_data.drop('index',axis=1,inplace=True)"
   ]
  },
  {
   "cell_type": "code",
   "execution_count": null,
   "id": "76d7a245",
   "metadata": {},
   "outputs": [],
   "source": [
    "final_data"
   ]
  },
  {
   "cell_type": "code",
   "execution_count": null,
   "id": "80642a61",
   "metadata": {},
   "outputs": [],
   "source": [
    "final_data.to_csv('dataframe1.csv')"
   ]
  },
  {
   "cell_type": "code",
   "execution_count": null,
   "id": "8a95242f",
   "metadata": {},
   "outputs": [],
   "source": [
    "data=final_data.copy()\n",
    "data2=df1.copy()"
   ]
  },
  {
   "cell_type": "code",
   "execution_count": null,
   "id": "663627a1",
   "metadata": {},
   "outputs": [],
   "source": [
    "data2.to_csv('dataframe2.csv')"
   ]
  },
  {
   "cell_type": "code",
   "execution_count": null,
   "id": "8d9e51f9",
   "metadata": {},
   "outputs": [],
   "source": [
    "final=pd.concat([data,data2],axis=0).reset_index()"
   ]
  },
  {
   "cell_type": "code",
   "execution_count": null,
   "id": "dfd983a8",
   "metadata": {},
   "outputs": [],
   "source": [
    "final.drop('index',axis=1,inplace=True)"
   ]
  },
  {
   "cell_type": "code",
   "execution_count": null,
   "id": "752ae7a3",
   "metadata": {},
   "outputs": [],
   "source": [
    "final"
   ]
  },
  {
   "cell_type": "code",
   "execution_count": null,
   "id": "e02785c3",
   "metadata": {},
   "outputs": [],
   "source": [
    "final.to_csv('99acres_new.csv')\n",
    "df3=pd.read_csv('99acres.csv')\n",
    "data_final=final.copy()"
   ]
  },
  {
   "cell_type": "code",
   "execution_count": null,
   "id": "6c76f8c5",
   "metadata": {},
   "outputs": [],
   "source": [
    "data_final.drop(data_final[data_final['property_name']==''].index,axis=0,inplace=True)\n",
    "data_final.drop_duplicates(inplace=True)\n",
    "data_final=data_final.reset_index()\n",
    "data_final.drop('index',axis=1,inplace=True)"
   ]
  },
  {
   "cell_type": "code",
   "execution_count": null,
   "id": "af929539",
   "metadata": {},
   "outputs": [],
   "source": [
    "data_final"
   ]
  },
  {
   "cell_type": "code",
   "execution_count": null,
   "id": "5064d7ed",
   "metadata": {},
   "outputs": [],
   "source": [
    "data_final.to_csv('clean_data_Uttarpradesh.csv')\n",
    "data=pd.read_csv('clean_data_Uttarpradesh.csv')"
   ]
  },
  {
   "cell_type": "code",
   "execution_count": null,
   "id": "a36c6cd3",
   "metadata": {},
   "outputs": [],
   "source": [
    "#dropping duplicates \n",
    "data.drop_duplicates(inplace=True)\n",
    "#dropping all the data where price feature is having price on request string\n",
    "data.drop((data[data['avg_price']=='Price on request'].index),axis=0,inplace=True)    #only less than 20 records so we delete them\n",
    "#now in the price column also we are having the price on request we will now replace it with the avg price "
   ]
  },
  {
   "cell_type": "code",
   "execution_count": null,
   "id": "3a4ccc72",
   "metadata": {},
   "outputs": [],
   "source": [
    "#splitting it into 2 df\n",
    "dd1=data[data['price']=='price on request'] \n",
    "dd2=data[data['price']!='price on request']\n",
    "#replacing the price column with value in the avg price columns\n",
    "dd1['price']=dd1['avg_price']"
   ]
  },
  {
   "cell_type": "code",
   "execution_count": null,
   "id": "d98dcd65",
   "metadata": {},
   "outputs": [],
   "source": [
    "clean1=pd.concat([dd1,dd2],axis=0).reset_index(drop=bool)\n",
    "#dropping the the avg_price column\n",
    "clean1.drop(['Unnamed: 0','avg_price'],axis=1,inplace=True)"
   ]
  },
  {
   "cell_type": "code",
   "execution_count": null,
   "id": "5af4a2d1",
   "metadata": {},
   "outputs": [],
   "source": [
    "#splitting the range of price into two features low and high\n",
    "clean1['price_low']=clean1['price'].map(lambda x:x.split('-')[0])\n",
    "clean1['price_high']=clean1['price'].map(lambda x:x.split('-')[-1])\n",
    "#splitting the carpet area into 2 feature to find the avg\n",
    "clean1['area_low']=clean1['carpet_area'].map(lambda x:x.split('-')[0])\n",
    "clean1['area_high']=clean1['carpet_area'].map(lambda x:x.split('-')[-1])"
   ]
  },
  {
   "cell_type": "code",
   "execution_count": null,
   "id": "4dae4370",
   "metadata": {},
   "outputs": [],
   "source": [
    "#removing the unit of square ft\n",
    "clean1['area_low']=clean1['area_low'].map(lambda x:x.split()[0])\n",
    "clean1['area_high']=clean1['area_high'].map(lambda x:x.split()[0])"
   ]
  },
  {
   "cell_type": "code",
   "execution_count": null,
   "id": "a8d2e06d",
   "metadata": {},
   "outputs": [],
   "source": [
    "#we have to remove the comma to transform into a numeric value\n",
    "clean1['area_low']=clean1['area_low'].map(lambda x:x.replace(',',''))\n",
    "clean1['area_high']=clean1['area_high'].map(lambda x:x.replace(',',''))\n",
    "#dropping the record which is having carpet area =unknown\n",
    "clean1.drop(clean1[clean1['carpet_area']=='unknown'].index,axis=0,inplace=True)\n",
    "#converting the area into numerical value\n",
    "clean1['area_high']=pd.to_numeric(clean1['area_high'])\n",
    "clean1['area_low']=pd.to_numeric(clean1['area_low'])"
   ]
  },
  {
   "cell_type": "code",
   "execution_count": null,
   "id": "5fec0c70",
   "metadata": {},
   "outputs": [],
   "source": [
    "#creating a new feature avg_area based on the avg of low and high area\n",
    "clean1['avg_area']=(clean1['area_low']+clean1['area_high'])/2"
   ]
  },
  {
   "cell_type": "code",
   "execution_count": null,
   "id": "df3d3c96",
   "metadata": {},
   "outputs": [],
   "source": [
    "clean1.drop(['area_low','carpet_area','area_high'],axis=1,inplace=True)\n",
    "clean1.reset_index(drop=bool,inplace=True)"
   ]
  },
  {
   "cell_type": "code",
   "execution_count": null,
   "id": "233d4538",
   "metadata": {},
   "outputs": [],
   "source": [
    "#to convert into lower case\n",
    "clean1['price_high']=clean1['price_high'].str.lower()\n",
    "clean1['price_low']=clean1['price_low'].str.lower()\n",
    "clean1['price_low']=clean1['price_low'].map(lambda x:' '.join(x.split()[1:]))"
   ]
  },
  {
   "cell_type": "code",
   "execution_count": null,
   "id": "8fd9bdac",
   "metadata": {},
   "outputs": [],
   "source": [
    "def price_to_number(x):\n",
    "    condition=re.compile(r'[+-]?([0-9]*[.])?[0-9]+')\n",
    "    out=condition.search(x)\n",
    "    k=float(out.group())\n",
    "    return k"
   ]
  },
  {
   "cell_type": "code",
   "execution_count": null,
   "id": "be9a87cb",
   "metadata": {},
   "outputs": [],
   "source": [
    "def size_extractor(x):\n",
    "    condition=re.compile(r'[+-]?([0-9]*[,])?[0-9]+')\n",
    "    out=condition.search(x)\n",
    "    k=float(out.group())\n",
    "    return k"
   ]
  },
  {
   "cell_type": "code",
   "execution_count": null,
   "id": "17da7ceb",
   "metadata": {},
   "outputs": [],
   "source": [
    "#defining 2 feature dummy\n",
    "clean1['p_low']=clean1['p_high']=0"
   ]
  },
  {
   "cell_type": "code",
   "execution_count": null,
   "id": "875f3788",
   "metadata": {},
   "outputs": [],
   "source": [
    "#to find out the prices are in crores or in lakhs\n",
    "for i in range(len(clean1)):\n",
    "    if clean1['price_low'][i].split()[-1]!='l' and clean1['price_high'][i].split()[-1]=='cr':\n",
    "        #print('both r crore')\n",
    "        clean1['p_low'][i]=100\n",
    "        clean1['p_high'][i]=100\n",
    "    elif clean1['price_low'][i].split()[-1]=='l' and clean1['price_high'][i].split()[-1]=='cr':\n",
    "        #print('low is lakh high is crore')\n",
    "        clean1['p_low'][i]=1\n",
    "        clean1['p_high'][i]=100\n",
    "    else:\n",
    "        #print('both r lack')\n",
    "        clean1['p_low'][i]=1\n",
    "        clean1['p_high'][i]=1"
   ]
  },
  {
   "cell_type": "code",
   "execution_count": null,
   "id": "0b97fc93",
   "metadata": {},
   "outputs": [],
   "source": [
    "clean1['price_new_high']=clean1['price_high'].map(price_to_number)\n",
    "clean1['price_new_low']=clean1['price_low'].map(price_to_number)"
   ]
  },
  {
   "cell_type": "code",
   "execution_count": null,
   "id": "82576dd8",
   "metadata": {},
   "outputs": [],
   "source": [
    "#multiplying elements to convert price in bring it in lakhs\n",
    "clean1['price_new_high']=clean1['price_new_high']*clean1['p_high']\n",
    "clean1['price_new_low']=clean1['price_new_low']*clean1['p_low']"
   ]
  },
  {
   "cell_type": "code",
   "execution_count": null,
   "id": "5a621bf3",
   "metadata": {},
   "outputs": [],
   "source": [
    "#average price\n",
    "clean1['avg_price']=(clean1['price_new_high']+clean1['price_new_low'])/2\n",
    "clean1.drop(['price','price_low','price_high','p_low','p_high','price_new_high','price_new_low'],axis=1,inplace=True)"
   ]
  },
  {
   "cell_type": "code",
   "execution_count": null,
   "id": "74a163db",
   "metadata": {},
   "outputs": [],
   "source": [
    "clean1['size']=clean1['size'].str.lower()\n",
    "clean1['region']=clean1['region'].str.lower()"
   ]
  },
  {
   "cell_type": "code",
   "execution_count": null,
   "id": "368165fe",
   "metadata": {},
   "outputs": [],
   "source": [
    "#replacing all records (size column) which doesnt have the key word bhk in it with open plot\n",
    "sub='bhk'\n",
    "for i in range(len(clean1)):\n",
    "    if sub not in clean1['size'][i]:\n",
    "        clean1['size'][i]='open plot'\n",
    "    else:\n",
    "        continue"
   ]
  },
  {
   "cell_type": "code",
   "execution_count": null,
   "id": "664e319f",
   "metadata": {},
   "outputs": [],
   "source": [
    "clean1['price_per_sq_ft']=clean1['avg_price']/clean1['avg_area']"
   ]
  },
  {
   "cell_type": "code",
   "execution_count": null,
   "id": "1d15f7b3",
   "metadata": {},
   "outputs": [],
   "source": [
    "#checking for duplicates\n",
    "clean1.duplicated().sum()\n",
    "clean1.drop_duplicates(inplace=True)\n",
    "clean1.reset_index(drop=bool,inplace=True)"
   ]
  },
  {
   "cell_type": "code",
   "execution_count": null,
   "id": "3dcad43c",
   "metadata": {},
   "outputs": [],
   "source": [
    "clean_data=clean1\n",
    "clean_data.to_csv('clean_data.csv')"
   ]
  },
  {
   "cell_type": "code",
   "execution_count": null,
   "id": "d7dee7ca",
   "metadata": {},
   "outputs": [],
   "source": [
    "#next"
   ]
  },
  {
   "cell_type": "code",
   "execution_count": null,
   "id": "99fed3eb",
   "metadata": {},
   "outputs": [],
   "source": [
    "#to extract the year from the completion status feature\n",
    "def search(x):\n",
    "    ob1=re.compile(r'\\d{4}')\n",
    "    ob2=ob1.findall(x)\n",
    "    if(len(ob2)!=0):\n",
    "        temp=ob2[0]\n",
    "    else:\n",
    "        temp=2023\n",
    "    return temp"
   ]
  },
  {
   "cell_type": "code",
   "execution_count": null,
   "id": "10d03f05",
   "metadata": {},
   "outputs": [],
   "source": [
    "#to extract the year from the completion status feature\n",
    "def rooms(x):\n",
    "    ob1=re.compile(r'\\d')\n",
    "    ob2=ob1.findall(x)\n",
    "    if(len(ob2)!=0):\n",
    "        temp=ob2[0]\n",
    "    else:\n",
    "        temp=0\n",
    "    return temp"
   ]
  },
  {
   "cell_type": "code",
   "execution_count": null,
   "id": "b4b4b0f9",
   "metadata": {},
   "outputs": [],
   "source": [
    "def extract_age(x):\n",
    "    temp=2023-int(x)\n",
    "    return temp"
   ]
  },
  {
   "cell_type": "code",
   "execution_count": null,
   "id": "8bc369a6",
   "metadata": {},
   "outputs": [],
   "source": [
    "data['completion_status']=data['completion_status'].map(search)\n",
    "data['age_of_building']=data['completion_status'].map(extract_age)"
   ]
  },
  {
   "cell_type": "code",
   "execution_count": null,
   "id": "debe811e",
   "metadata": {},
   "outputs": [],
   "source": [
    "data=data.drop_duplicates(None).reset_index()\n",
    "data['no_rooms']=data['size'].map(rooms)\n",
    "data.drop(['completion_status','index','size'],axis=1,inplace=True)"
   ]
  },
  {
   "cell_type": "code",
   "execution_count": null,
   "id": "46e0e6b3",
   "metadata": {},
   "outputs": [],
   "source": [
    "data['price_per_sq']=data['price_per_sq_ft']\n",
    "data.drop('price_per_sq_ft',axis=1,inplace=True)"
   ]
  },
  {
   "cell_type": "code",
   "execution_count": null,
   "id": "bbd68b51",
   "metadata": {},
   "outputs": [],
   "source": []
  }
 ],
 "metadata": {
  "kernelspec": {
   "display_name": "Python 3 (ipykernel)",
   "language": "python",
   "name": "python3"
  },
  "language_info": {
   "codemirror_mode": {
    "name": "ipython",
    "version": 3
   },
   "file_extension": ".py",
   "mimetype": "text/x-python",
   "name": "python",
   "nbconvert_exporter": "python",
   "pygments_lexer": "ipython3",
   "version": "3.9.12"
  }
 },
 "nbformat": 4,
 "nbformat_minor": 5
}
